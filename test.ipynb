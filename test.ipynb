{
 "cells": [
  {
   "cell_type": "code",
   "execution_count": 1,
   "metadata": {},
   "outputs": [
    {
     "data": {
      "text/plain": [
       "True"
      ]
     },
     "execution_count": 1,
     "metadata": {},
     "output_type": "execute_result"
    }
   ],
   "source": [
    "import os\n",
    "from dotenv import load_dotenv\n",
    "\n",
    "load_dotenv()"
   ]
  },
  {
   "cell_type": "code",
   "execution_count": 2,
   "metadata": {},
   "outputs": [],
   "source": [
    "from llama_index.core import VectorStoreIndex,SimpleDirectoryReader, StorageContext, load_index_from_storage\n",
    "documents=SimpleDirectoryReader(\"data\").load_data()"
   ]
  },
  {
   "cell_type": "code",
   "execution_count": 3,
   "metadata": {},
   "outputs": [
    {
     "name": "stderr",
     "output_type": "stream",
     "text": [
      "c:\\Users\\JayVo\\anaconda3\\envs\\chest_xray\\Lib\\site-packages\\tqdm\\auto.py:21: TqdmWarning: IProgress not found. Please update jupyter and ipywidgets. See https://ipywidgets.readthedocs.io/en/stable/user_install.html\n",
      "  from .autonotebook import tqdm as notebook_tqdm\n",
      "Parsing nodes: 100%|██████████| 51/51 [00:00<00:00, 1376.00it/s]\n",
      "Generating embeddings: 100%|██████████| 54/54 [00:03<00:00, 16.99it/s]\n"
     ]
    }
   ],
   "source": [
    "index=VectorStoreIndex.from_documents(documents,show_progress=True)\n",
    "index.storage_context.persist(persist_dir=\"index\")"
   ]
  },
  {
   "cell_type": "code",
   "execution_count": 4,
   "metadata": {},
   "outputs": [],
   "source": [
    "storage_context = StorageContext.from_defaults(persist_dir=\"index\")\n",
    "index = load_index_from_storage(storage_context)"
   ]
  },
  {
   "cell_type": "code",
   "execution_count": 4,
   "metadata": {},
   "outputs": [],
   "source": [
    "retriever = index.as_retriever(similarity_top_k=6)"
   ]
  },
  {
   "cell_type": "code",
   "execution_count": 9,
   "metadata": {},
   "outputs": [],
   "source": [
    "nodes = retriever.retrieve(\"What powers does the prime minister have\")"
   ]
  },
  {
   "cell_type": "code",
   "execution_count": 6,
   "metadata": {},
   "outputs": [
    {
     "name": "stdout",
     "output_type": "stream",
     "text": [
      "AUSTRALIA’S CONSTITUTIONivDespite the structure of the Constitution there is no strict demarcation between the legislative and executive \n",
      "powers of the Commonwealth. Only the Parliament can pass Acts, but these Acts often confer on the \n",
      "Executive Government the power to make regulations, rules and by-laws in relation to matters relevant to the \n",
      "particular Acts.\n",
      "For example, the Parliament may enact in the Customs Act that no person may bring a ‘prohibited import’ into \n",
      "Australia and then leave it to the Executive to specify in the Customs Regulations what is a ‘prohibited import’. \n",
      "This delegation of legislative power is not as extreme as it may appear, however, as both Houses of Parliament \n",
      "usually retain the power to ‘disallow’ (that is, reject), within a specified time, any regulation which has been \n",
      "made by the Executive.\n",
      "The distinction between the Parliament and the Executive Government is further blurred by the fact that the \n",
      "Prime Minister and the other Government Ministers (who form part of the Executive) must be members of \n",
      "Parliament. This reflects the principle of responsible government (discussed below) under which Government \n",
      "Ministers must be members of, and accountable to, the Parliament. \n",
      "By contrast, the separation between the Judicature on the one hand and the Parliament and the Executive \n",
      "Government on the other is strict. Only a court may exercise the judicial power of the Commonwealth, so that, \n",
      "for example, the question whether a person has contravened a law of the Parliament (for example, by bringing \n",
      "a ‘prohibited import’ into the country) can only be conclusively determined by a court.\n",
      "The Crown and Responsible Government\n",
      "As well as being a federation, Australia is a constitutional monarchy. Under this system of government, as the \n",
      "term suggests, the head of State of a country is a monarch whose functions are regulated by a constitution. \n",
      "The concept of ‘the Crown’ pervades the Constitution. For example, the Queen is part of the Parliament \n",
      "(section 1), and is empowered to appoint the Governor-General as her representative (section 2). The \n",
      "executive power of the Commonwealth is vested in the Queen and is exercisable by the Governor-General as \n",
      "her representative (section 61).\n",
      "Despite the terms of the Constitution, the Queen does not play a day-to-day role in the Commonwealth \n",
      "Government. Those few functions which the Queen does perform (for example, appointing the Governor-\n",
      "General) are done in accordance with advice from the Prime Minister.\n",
      "The Governor-General performs a large number of functions. However, apart from exceptional circumstances \n",
      "(discussed below), the Governor-General acts in accordance with the advice of Commonwealth Ministers. \n",
      "The reason for this is the principle of ‘responsible government’ which is basic to our system of government \n",
      "and which underlies our Constitution. Under this principle, the Crown (represented by the Governor-General) \n",
      "acts on the advice of its Ministers who are in turn members of, and responsible to, the Parliament. It is for this \n",
      "reason that section 64 of the Constitution requires Ministers to be, or become, members of Parliament.\n",
      "There is a small number of matters (probably only four) in relation to which the Governor-General is not \n",
      "required to act in accordance with Ministerial advice. The powers which the Governor-General has in this \n",
      "respect are known as ‘reserve powers’. The two most important reserve powers are the powers to appoint and \n",
      "to dismiss a Prime Minister. In exercising a reserve power, the Governor-General ordinarily acts in accordance \n",
      "with established and generally accepted rules of practice known as ‘conventions’. For example, when \n",
      "appointing a Prime Minister under section 64 of the Constitution, the Governor-General must, by convention, \n",
      "appoint the parliamentary leader of the party or coalition of parties which has a majority of seats in the House \n",
      "of Representatives.\n",
      "There can be circumstances, however, where there is no generally agreed convention to control the exercise \n",
      "of the Governor-General’s reserve powers. Such a situation arose in 1975 when the Governor-General, Sir \n",
      "John Kerr, dismissed the Prime Minister, Mr E.G. Whitlam, after the Senate – controlled by Opposition parties \n",
      "– blocked the passage of the Supply Bill in an attempt to deprive the Whitlam Government of the funds \n",
      "needed to govern.\n",
      "AUSTRALIA’S CONSTITUTIONvSome people argue that Sir John acted properly in dismissing Mr Whitlam as it was consistent with a \n",
      "‘convention’ that a Prime Minister who cannot obtain supply should either seek a general election or \n",
      "be dismissed. Others contend that the dismissal of Mr Whitlam breached the convention that a person \n",
      "who retains majority support of the House of Representatives, as Mr Whitlam did, is entitled to remain \n",
      "Prime Minister.\n",
      "Representative Government\n",
      "Another fundamental principle which underlies the Constitution is that of ‘representative government’ – \n",
      "that is, government by representatives of the people who are chosen by the people. Consistently with this \n",
      "principle, sections 7 and 28 of the Constitution require regular elections for the House of Representatives and \n",
      "the Senate, and sections 7 and 24 require members of the Commonwealth Parliament to be directly chosen \n",
      "by the people.\n",
      "Commonwealth Parliament\n",
      "The Constitution established the Commonwealth Parliament comprising the Queen, a House of \n",
      "Representatives and a Senate (sections 1–60). The people of each of the six States elect the same number \n",
      "of senators (currently 12), regardless of their State’s population, and the people of the Northern Territory \n",
      "and the Australian Capital Territory are each currently represented by two senators. This gives a total of 76 \n",
      "senators. In the House of Representatives the number of seats from each State (and Territory) depends on \n",
      "the population (although each State is guaranteed at least five seats). The current number of members of the \n",
      "House of Representatives is 151. \n",
      "Before a proposed law (commonly referred to as a Bill) becomes an Act of Parliament it must be passed by \n",
      "both the House of Representatives and the Senate. The Bill is then presented to the Governor-General who \n",
      "assents to it in the Queen’s name (section 58). A Bill becomes an Act of Parliament when it receives this \n",
      "assent. Nearly all Bills which subsequently become Acts of Parliament are proposed by the Government \n",
      "– that is, the parliamentary party or coalition of parties which holds a majority of seats in the House of \n",
      "Representatives.\n",
      "Subject to the few exceptions referred to in section 53 in relation to the initiation and amendment of Bills \n",
      "which appropriate revenue or impose taxation, the Senate has equal power with the House of Representatives \n",
      "in respect of all Bills. Often the Government does not have a majority of seats in the Senate. Accordingly, \n",
      "disputes may arise between the two Houses as to whether a Bill should be passed in its proposed form. These \n",
      "disputes are nearly always resolved by the two Houses.\n",
      "Section 57 prescribes the procedure for resolving any irreconcilable disagreement between the two Houses. \n",
      "That procedure essentially involves the dissolution of both Houses of Parliament by the Governor-General \n",
      "(that is, a ‘double dissolution’), the holding of an election for both the House of Representatives and the \n",
      "Senate, and then, if necessary, the convening of a joint sitting of the two Houses following the election to \n",
      "determine whether the proposed law or laws which led to the dissolution should be passed.\n",
      "Commonwealth Legislative Powers\n",
      "The Constitution confers the power to make laws on the Commonwealth Parliament. However, the power of the \n",
      "Commonwealth Parliament to make laws is limited to particular subjects. Most of these subjects are listed in \n",
      "sections 51 and 52. They include defence; external affairs; interstate and international trade; taxation; foreign, \n",
      "trading and financial corporations; marriage and divorce; immigration; bankruptcy; and interstate industrial \n",
      "conciliation and arbitration.\n",
      "This list of powers given to the Commonwealth Parliament does not expressly refer to a number of important \n",
      "subjects including education, the environment, criminal law, and roads – but this does not mean that \n",
      "those subjects are wholly outside the Parliament’s powers. For example, even though the Commonwealth \n",
      "Parliament has no specific power in relation to the environment, it can, under its external affairs power, \n",
      "prohibit the construction of a dam by a State if that is necessary to give effect to an international agreement \n",
      "on the environment. The legislative powers of the Commonwealth Parliament can also be expanded by the \n",
      "Parliaments of the States referring matters to the Commonwealth Parliament under section 51(xxxvii).\n",
      "AUSTRALIA’S CONSTITUTION20Chapter II—The Executive Government\n",
      "61. Executive power\n",
      "The executive power of the Commonwealth is vested in the Queen and is exercisable by the Governor-General \n",
      "as the Queen’s representative, and extends to the execution and maintenance of this Constitution, and of the \n",
      "laws of the Commonwealth.\n",
      "62. Federal Executive Council\n",
      "There shall be a Federal Executive Council to advise the Governor-General in the government of the \n",
      "Commonwealth, and the members of the Council shall be chosen and summoned by the Governor-General \n",
      "and sworn as Executive Councillors, and shall hold office during his pleasure.\n",
      "63. Provisions referring to Governor-General\n",
      "The provisions of this Constitution referring to the Governor-General in Council shall be construed as referring \n",
      "to the Governor-General acting with the advice of the Federal Executive Council.\n",
      "64. Ministers of State\n",
      "The Governor-General may appoint officers to administer such departments of State of the Commonwealth as \n",
      "the Governor-General in Council may establish.\n",
      "Such officers shall hold office during the pleasure of the Governor-General. They shall be members of the \n",
      "Federal Executive Council, and shall be the Queen’s Ministers of State for the Commonwealth.\n",
      "Ministers to sit in Parliament\n",
      "After the first general election no Minister of State shall hold office for a longer period than three months \n",
      "unless he is or becomes a senator or a member of the House of Representatives.\n",
      "65. Number of Ministers\n",
      "Until the Parliament otherwise provides, the Ministers of State shall not exceed seven in number, and shall \n",
      "hold such offices as the Parliament prescribes, or, in the absence of provision, as the Governor-General \n",
      "directs.\n",
      "66. Salaries of Ministers\n",
      "There shall be payable to the Queen, out of the Consolidated Revenue Fund of the Commonwealth, for the \n",
      "salaries of the Ministers of State, an annual sum which, until the Parliament otherwise provides, shall not \n",
      "exceed twelve thousand pounds a year.\n",
      "67. Appointment of civil servants\n",
      "Until the Parliament otherwise provides, the appointment and removal of all other officers of the Executive \n",
      "Government of the Commonwealth shall be vested in the Governor-General in Council, unless the \n",
      "appointment is delegated by the Governor-General in Council or by a law of the Commonwealth to some other \n",
      "authority.\n",
      "68. Command of naval and military forces\n",
      "The command in chief of the naval and military forces of the Commonwealth is vested in the Governor-General \n",
      "as the Queen’s representative.\n",
      "69. Transfer of certain departments\n",
      "On a date or dates to be proclaimed by the Governor-General after the establishment of the Commonwealth \n",
      "the following departments of the public service in each State shall become transferred to the Commonwealth:\n",
      "  posts, telegraphs, and telephones;\n",
      "  naval and military defence;\n",
      "AUSTRALIA’S CONSTITUTION17 (xxxi) the acquisition of property on just terms from any State or person for any purpose in respect of which \n",
      "the Parliament has power to make laws;\n",
      " (xxxii) the control of railways with respect to transport for the naval and military purposes of the \n",
      "Commonwealth;\n",
      " (xxxiii) the acquisition, with the consent of a State, of any railways of the State on terms arranged between \n",
      "the Commonwealth and the State;\n",
      " (xxxiv) railway construction and extension in any State with the consent of that State;\n",
      " (xxxv) conciliation and arbitration for the prevention and settlement of industrial disputes extending beyond \n",
      "the limits of any one State;\n",
      " (xxxvi) matters in respect of which this Constitution makes provision until the Parliament otherwise \n",
      "provides;\n",
      " (xxxvii) matters referred to the Parliament of the Commonwealth by the Parliament or Parliaments of any \n",
      "State or States,15 but so that the law shall extend only to States by whose Parliaments the matter is \n",
      "referred, or which afterwards adopt the law;\n",
      " (xxxviii) the exercise within the Commonwealth, at the request or with the concurrence of the Parliaments of \n",
      "all the States directly concerned, of any power which can at the establishment of this Constitution be \n",
      "exercised only by the Parliament of the United Kingdom or by the Federal Council of Australasia;\n",
      " (xxxix) matters incidental to the execution of any power vested by this Constitution in the Parliament or in \n",
      "either House thereof, or in the Government of the Commonwealth, or in the Federal Judicature, or in \n",
      "any department or officer of the Commonwealth.\n",
      "52. Exclusive powers of the Parliament\n",
      "The Parliament shall, subject to this Constitution, have exclusive power to make laws for the peace, order, and \n",
      "good government of the Commonwealth with respect to:\n",
      " (i) the seat of government of the Commonwealth, and all places acquired by the Commonwealth for \n",
      "public purposes;\n",
      " (ii) matters relating to any department of the public service the control of which is by this Constitution \n",
      "transferred to the Executive Government of the Commonwealth;\n",
      " (iii) other matters declared by this Constitution to be within the exclusive power of the Parliament.\n",
      "53. Powers of the Houses in respect of legislation\n",
      "Proposed laws appropriating revenue or moneys, or imposing taxation, shall not originate in the Senate. But \n",
      "a proposed law shall not be taken to appropriate revenue or moneys, or to impose taxation, by reason only of \n",
      "its containing provisions for the imposition or appropriation of fines or other pecuniary penalties, or for the \n",
      "demand or payment or appropriation of fees for licences, or fees for services under the proposed law.\n",
      "The Senate may not amend proposed laws imposing taxation, or proposed laws appropriating revenue or \n",
      "moneys for the ordinary annual services of the Government.\n",
      "The Senate may not amend any proposed law so as to increase any proposed charge or burden on the people.\n",
      "The Senate may at any stage return to the House of Representatives any proposed law which the Senate may \n",
      "not amend, requesting, by message, the omission or amendment of any items or provisions therein. And the \n",
      "House of Representatives may, if it thinks fit, make any of such omissions or amendments, with or without \n",
      "modifications.\n",
      "Except as provided in this section, the Senate shall have equal power with the House of Representatives in \n",
      "respect of all proposed laws.\n",
      "AUSTRALIA’S CONSTITUTION8Chapter I—The Parliament\n",
      "Part I—General\n",
      "1. Legislative power\n",
      "The legislative power of the Commonwealth shall be vested in a Federal Parliament, which shall consist of \n",
      "the Queen, a Senate, and a House of Representatives, and which is hereinafter called The Parliament,  or The \n",
      "Parliament of the Commonwealth.\n",
      "2. Governor-General\n",
      "A Governor-General appointed by the Queen shall be Her Majesty’s representative in the Commonwealth, \n",
      "and shall have and may exercise in the Commonwealth during the Queen’s pleasure, but subject to this \n",
      "Constitution, such powers and functions of the Queen as Her Majesty may be pleased to assign to him.\n",
      "3. Salary of Governor-General\n",
      "There shall be payable to the Queen out of the Consolidated Revenue fund of the Commonwealth, for the \n",
      "salary of the Governor-General, an annual sum which, until the Parliament otherwise provides, shall be ten \n",
      "thousand pounds.\n",
      "The salary of a Governor-General shall not be altered during his continuance in office.\n",
      "4. Provisions relating to Governor-General \n",
      "The provisions of this Constitution relating to the Governor-General extend and apply to the Governor-\n",
      "General for the time being, or such person as the Queen may appoint to administer the Government of the \n",
      "Commonwealth; but no such person shall be entitled to receive any salary from the Commonwealth in respect \n",
      "of any other office during his administration of the Government of the Commonwealth.\n",
      "5. Sessions of Parliament, prorogation and dissolution\n",
      "The Governor-General may appoint such times for holding the sessions of the Parliament as he thinks fit, and \n",
      "may also from time to time, by Proclamation or otherwise, prorogue the Parliament, and may in like manner \n",
      "dissolve the House of Representatives.\n",
      "Summoning Parliament\n",
      "After any general election the Parliament shall be summoned to meet not later than thirty days after the day \n",
      "appointed for the return of the writs.\n",
      "First session\n",
      "The Parliament shall be summoned to meet not later than six months after the establishment of the \n",
      "Commonwealth.\n",
      "6. Yearly session of Parliament\n",
      "There shall be a session of the Parliament once at least in every year, so that twelve months shall not intervene \n",
      "between the last sitting of the Parliament in one session and its first sitting in the next session.\n",
      "Part II – The Senate\n",
      "7. The Senate\n",
      "The Senate shall be composed of senators for each State, directly chosen by the people of the State, voting, \n",
      "until the Parliament otherwise provides, as one electorate.\n",
      "AUSTRALIA’S CONSTITUTION33Chapter VII—Miscellaneous\n",
      "125. Seat of Government\n",
      "The seat of Government of the Commonwealth shall be determined by the Parliament, and shall be within \n",
      "territory which shall have been granted to or acquired by the Commonwealth, and shall be vested in and \n",
      "belong to the Commonwealth, and shall be in the State of New South Wales, and be distant not less than one \n",
      "hundred miles from Sydney.\n",
      "Such territory shall contain an area of not less than one hundred square miles, and such portion thereof as \n",
      "shall consist of Crown lands shall be granted to the Commonwealth without any payment therefor.\n",
      "The Parliament shall sit at Melbourne until it meet at the seat of Government.\n",
      "126. Power to Her Majesty to authorise Governor-General to appoint deputies\n",
      "The Queen may authorise the Governor-General to appoint any person, or any persons jointly or severally, to \n",
      "be his deputy or deputies20 within any part of the Commonwealth, and in that capacity to exercise during the \n",
      "pleasure of the Governor-General such powers and functions of the Governor-General as he thinks fit to assign \n",
      "to such deputy or deputies, subject to any limitations expressed or directions given by the Queen; but the \n",
      "appointment of such deputy or deputies shall not affect the exercise by the Governor-General himself of any \n",
      "power or function.\n",
      "127.21\n"
     ]
    }
   ],
   "source": [
    "for node in nodes:\n",
    "    print(node.text)\n",
    "\n"
   ]
  },
  {
   "cell_type": "code",
   "execution_count": 11,
   "metadata": {},
   "outputs": [],
   "source": [
    "from llama_index.core.indices.postprocessor import SentenceTransformerRerank\n",
    "reranker = SentenceTransformerRerank(model=\"cross-encoder/ms-marco-MiniLM-L-2-v2\", top_n=5)\n",
    "reranked_nodes = reranker.postprocess_nodes(nodes=nodes, query_str=\"What powers does the prime minister have\")"
   ]
  },
  {
   "cell_type": "code",
   "execution_count": 118,
   "metadata": {},
   "outputs": [],
   "source": [
    "combined_context = \"\\n\".join(node.text for node in reranked_nodes)"
   ]
  },
  {
   "cell_type": "code",
   "execution_count": 1,
   "metadata": {},
   "outputs": [],
   "source": [
    "from langchain.prompts import ChatPromptTemplate\n",
    "from langchain.chains.conversation.memory import ConversationBufferMemory\n",
    "from langchain_openai import ChatOpenAI"
   ]
  },
  {
   "cell_type": "code",
   "execution_count": 138,
   "metadata": {},
   "outputs": [],
   "source": [
    "rewriting_llm = ChatOpenAI(\n",
    "\ttemperature=0,\n",
    "\tmodel_name=\"gpt-3.5-turbo\"\n",
    ")\n",
    "\n",
    "final_llm = ChatOpenAI(\n",
    "\ttemperature=0,\n",
    "\tmodel_name=\"gpt-3.5-turbo\"\n",
    ")\n",
    "\n",
    "# Initialize memory\n",
    "memory = ConversationBufferMemory()\n"
   ]
  },
  {
   "cell_type": "code",
   "execution_count": 110,
   "metadata": {},
   "outputs": [],
   "source": [
    "#Set Initial Prompt\n",
    "rewriting_prompt_str = \"\"\"\n",
    "[INST] \n",
    "Given the Chat History and Question, rephrase the question so it can be a standalone question.  I will give some examples.\n",
    "\n",
    "```\n",
    "Example 1: If no chat history is present, then just return the original question\n",
    "Chat History: \n",
    "Question: What is the power of the prime minister?\n",
    "Your response: What is the power of the prime minister?\n",
    "Note: You are returning  \"What is the power of the prime minister?\", not \"Rephrased Question:  What is the power of the prime minister?\"\n",
    "```\n",
    "\n",
    "```\n",
    "Example 2: \n",
    "Chat History: \n",
    "Human: What is the power of the prime minister?\n",
    "AI: The prime minister has many powers\n",
    "Question: What else can he do?\n",
    "Your response: What else can the prime minister do? \n",
    "Note: You are returning What else can the prime minister do?, not Rephrased Question: What else can the prime minister do?\n",
    "```\n",
    "\n",
    "With those examples, here are the actual chat history and input questions:\n",
    "Chat History: {chat_history}\n",
    "Question: {question}\n",
    "[/INST] \n",
    "\"\"\"\n",
    "rewriting_prompt = ChatPromptTemplate.from_template(rewriting_prompt_str)"
   ]
  },
  {
   "cell_type": "code",
   "execution_count": 137,
   "metadata": {},
   "outputs": [],
   "source": [
    "\n",
    "response = rewriting_llm.invoke(rewriting_prompt.invoke({\"chat_history\":\"Human: Who is Chris? \\nAI: Your mom\", \"question\":\"What does he do?\"}).to_string()).content"
   ]
  },
  {
   "cell_type": "code",
   "execution_count": 128,
   "metadata": {},
   "outputs": [],
   "source": [
    "# Set final prompt\n",
    "final_prompt_str = \"\"\"\n",
    "[INST] \n",
    "Given the following chat history and context, answer the following question.\n",
    "\n",
    "Context: {context}\n",
    "Chat History: {chat_history}\n",
    "Question: {question}\n",
    "[/INST] \n",
    "\"\"\"\n",
    "final_prompt = ChatPromptTemplate.from_template(final_prompt_str)\n",
    "\n",
    "\n",
    "# Update history"
   ]
  },
  {
   "cell_type": "code",
   "execution_count": 129,
   "metadata": {},
   "outputs": [
    {
     "data": {
      "text/plain": [
       "AIMessage(content='The Prime Minister of Australia has the power to lead the government, make decisions on behalf of the government, represent Australia internationally, and appoint and dismiss government ministers. The Prime Minister is also responsible for setting government policy, managing the cabinet, and overseeing the administration of government departments.', response_metadata={'token_usage': {'completion_tokens': 55, 'prompt_tokens': 3563, 'total_tokens': 3618}, 'model_name': 'gpt-3.5-turbo-0125', 'system_fingerprint': None, 'finish_reason': 'stop', 'logprobs': None}, id='run-8a4d73f4-9511-4937-af80-79239cd056c0-0', usage_metadata={'input_tokens': 3563, 'output_tokens': 55, 'total_tokens': 3618})"
      ]
     },
     "execution_count": 129,
     "metadata": {},
     "output_type": "execute_result"
    }
   ],
   "source": [
    "final_llm.invoke(final_prompt.invoke({\"context\":combined_context, \"chat_history\":memory.chat_memory.__str__(), \"question\":\"What are his powers?\"}).to_string())"
   ]
  },
  {
   "cell_type": "code",
   "execution_count": 125,
   "metadata": {},
   "outputs": [],
   "source": [
    "memory.save_context({\"HumanMessage\":\"Who is the prime minister\"},{\"AIMessage\":\"Yeah\"})"
   ]
  },
  {
   "cell_type": "code",
   "execution_count": 126,
   "metadata": {},
   "outputs": [
    {
     "data": {
      "text/plain": [
       "'Human: Who is the prime minister\\nAI: Yeah'"
      ]
     },
     "execution_count": 126,
     "metadata": {},
     "output_type": "execute_result"
    }
   ],
   "source": [
    "memory.chat_memory.__str__()"
   ]
  }
 ],
 "metadata": {
  "kernelspec": {
   "display_name": "chest_xray",
   "language": "python",
   "name": "python3"
  },
  "language_info": {
   "codemirror_mode": {
    "name": "ipython",
    "version": 3
   },
   "file_extension": ".py",
   "mimetype": "text/x-python",
   "name": "python",
   "nbconvert_exporter": "python",
   "pygments_lexer": "ipython3",
   "version": "3.11.0"
  }
 },
 "nbformat": 4,
 "nbformat_minor": 2
}
